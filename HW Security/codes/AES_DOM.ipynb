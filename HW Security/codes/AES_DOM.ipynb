{
  "cells": [
    {
      "cell_type": "markdown",
      "metadata": {
        "id": "CPrBBcbnPAut"
      },
      "source": [
        "## Get Prerequisite Files"
      ]
    },
    {
      "cell_type": "code",
      "execution_count": 4,
      "metadata": {
        "id": "jJ4euPz_xYHV"
      },
      "outputs": [
        {
          "name": "stdout",
          "output_type": "stream",
          "text": [
            "Requirement already satisfied: gdown in c:\\programdata\\anaconda3\\lib\\site-packages\n",
            "Requirement already satisfied: requests[socks] in c:\\programdata\\anaconda3\\lib\\site-packages (from gdown)\n",
            "Requirement already satisfied: tqdm in c:\\programdata\\anaconda3\\lib\\site-packages (from gdown)\n",
            "Requirement already satisfied: filelock in c:\\programdata\\anaconda3\\lib\\site-packages (from gdown)\n",
            "Requirement already satisfied: six in c:\\programdata\\anaconda3\\lib\\site-packages (from gdown)\n",
            "Requirement already satisfied: beautifulsoup4 in c:\\programdata\\anaconda3\\lib\\site-packages (from gdown)\n",
            "Requirement already satisfied: chardet<3.1.0,>=3.0.2 in c:\\programdata\\anaconda3\\lib\\site-packages (from requests[socks]->gdown)\n",
            "Requirement already satisfied: idna<2.7,>=2.5 in c:\\programdata\\anaconda3\\lib\\site-packages (from requests[socks]->gdown)\n",
            "Requirement already satisfied: urllib3<1.23,>=1.21.1 in c:\\programdata\\anaconda3\\lib\\site-packages (from requests[socks]->gdown)\n",
            "Requirement already satisfied: certifi>=2017.4.17 in c:\\programdata\\anaconda3\\lib\\site-packages (from requests[socks]->gdown)\n",
            "Requirement already satisfied: PySocks!=1.5.7,>=1.5.6 in c:\\programdata\\anaconda3\\lib\\site-packages (from requests[socks]->gdown)\n",
            "Requirement already satisfied: importlib-resources; python_version < \"3.7\" in c:\\programdata\\anaconda3\\lib\\site-packages (from tqdm->gdown)\n",
            "Requirement already satisfied: colorama; platform_system == \"Windows\" in c:\\programdata\\anaconda3\\lib\\site-packages (from tqdm->gdown)\n",
            "Requirement already satisfied: zipp>=3.1.0; python_version < \"3.10\" in c:\\programdata\\anaconda3\\lib\\site-packages (from importlib-resources; python_version < \"3.7\"->tqdm->gdown)\n"
          ]
        },
        {
          "name": "stderr",
          "output_type": "stream",
          "text": [
            "You are using pip version 9.0.1, however version 22.0.4 is available.\n",
            "You should consider upgrading via the 'python -m pip install --upgrade pip' command.\n",
            "Downloading...\n",
            "From: https://drive.google.com/uc?export=download&id=1SgxkzLHz2_ZtJFkWs0x_F5doRWBIj8b6\n",
            "To: e:\\ta,course\\HW Security\\codes\\Files.zip\n",
            "\n",
            "  0%|          | 0.00/129k [00:00<?, ?B/s]\n",
            "100%|██████████| 129k/129k [00:00<00:00, 643kB/s]\n",
            "100%|██████████| 129k/129k [00:00<00:00, 643kB/s]\n",
            "'unzip' is not recognized as an internal or external command,\n",
            "operable program or batch file.\n",
            "'rm' is not recognized as an internal or external command,\n",
            "operable program or batch file.\n",
            "Downloading...\n",
            "From: https://drive.google.com/uc?export=download&id=1_-hTQJet_B9HaZXdT-3cFqabpMdr4Xyq\n",
            "To: e:\\ta,course\\HW Security\\codes\\basys_key_df.csv\n",
            "\n",
            "  0%|          | 0.00/1.72M [00:00<?, ?B/s]\n",
            " 30%|███       | 524k/1.72M [00:00<00:00, 1.46MB/s]\n",
            " 91%|█████████▏| 1.57M/1.72M [00:00<00:00, 3.85MB/s]\n",
            "100%|██████████| 1.72M/1.72M [00:00<00:00, 3.60MB/s]\n"
          ]
        }
      ],
      "source": [
        "!pip install gdown\n",
        "!gdown \"https://drive.google.com/uc?export=download&id=1SgxkzLHz2_ZtJFkWs0x_F5doRWBIj8b6\"\n",
        "!unzip Files.zip\n",
        "!rm Files.zip\n",
        "!gdown \"https://drive.google.com/uc?export=download&id=1_-hTQJet_B9HaZXdT-3cFqabpMdr4Xyq\""
      ]
    },
    {
      "cell_type": "markdown",
      "metadata": {
        "id": "2SHhaI4vPwab"
      },
      "source": [
        "## DOM Attack on AES using Simulated Traces"
      ]
    },
    {
      "cell_type": "markdown",
      "metadata": {
        "id": "KNepETyX_RZn"
      },
      "source": [
        "This code performs DOM attack on AES cipher using simulated traces obtained from VC Dump."
      ]
    },
    {
      "cell_type": "code",
      "execution_count": 3,
      "metadata": {
        "colab": {
          "base_uri": "https://localhost:8080/",
          "height": 234
        },
        "id": "RsPJKjhOP0Hb",
        "outputId": "45244882-5de7-441f-d131-096e7fd92409"
      },
      "outputs": [
        {
          "ename": "FileNotFoundError",
          "evalue": "[Errno 2] No such file or directory: 'Files/trace.txt'",
          "output_type": "error",
          "traceback": [
            "\u001b[1;31m---------------------------------------------------------------------------\u001b[0m",
            "\u001b[1;31mFileNotFoundError\u001b[0m                         Traceback (most recent call last)",
            "\u001b[1;32m<ipython-input-3-b5f8d907254d>\u001b[0m in \u001b[0;36m<module>\u001b[1;34m()\u001b[0m\n\u001b[0;32m     32\u001b[0m \u001b[1;33m\u001b[0m\u001b[0m\n\u001b[0;32m     33\u001b[0m \u001b[1;31m##vcd dump parser\u001b[0m\u001b[1;33m\u001b[0m\u001b[1;33m\u001b[0m\u001b[0m\n\u001b[1;32m---> 34\u001b[1;33m \u001b[0mfileHandler\u001b[0m \u001b[1;33m=\u001b[0m \u001b[0mopen\u001b[0m \u001b[1;33m(\u001b[0m\u001b[1;34m\"Files/trace.txt\"\u001b[0m\u001b[1;33m,\u001b[0m \u001b[1;34m\"r\"\u001b[0m\u001b[1;33m)\u001b[0m\u001b[1;33m\u001b[0m\u001b[0m\n\u001b[0m\u001b[0;32m     35\u001b[0m \u001b[0mfileH\u001b[0m \u001b[1;33m=\u001b[0m \u001b[0mopen\u001b[0m \u001b[1;33m(\u001b[0m\u001b[1;34m\"Files/vcd_parsed_new.txt\"\u001b[0m\u001b[1;33m,\u001b[0m \u001b[1;34m\"w\"\u001b[0m\u001b[1;33m)\u001b[0m\u001b[1;33m\u001b[0m\u001b[0m\n\u001b[0;32m     36\u001b[0m \u001b[1;32mfor\u001b[0m \u001b[0mi\u001b[0m \u001b[1;32min\u001b[0m \u001b[0mrange\u001b[0m\u001b[1;33m(\u001b[0m\u001b[1;36m100000\u001b[0m\u001b[1;33m)\u001b[0m\u001b[1;33m:\u001b[0m\u001b[1;33m\u001b[0m\u001b[0m\n",
            "\u001b[1;31mFileNotFoundError\u001b[0m: [Errno 2] No such file or directory: 'Files/trace.txt'"
          ]
        }
      ],
      "source": [
        "import csv\n",
        "import numpy as np\n",
        "\n",
        "InvSbox = (\n",
        "    0x52, 0x09, 0x6A, 0xD5, 0x30, 0x36, 0xA5, 0x38, 0xBF, 0x40, 0xA3, 0x9E, 0x81, 0xF3, 0xD7, 0xFB,\n",
        "    0x7C, 0xE3, 0x39, 0x82, 0x9B, 0x2F, 0xFF, 0x87, 0x34, 0x8E, 0x43, 0x44, 0xC4, 0xDE, 0xE9, 0xCB,\n",
        "    0x54, 0x7B, 0x94, 0x32, 0xA6, 0xC2, 0x23, 0x3D, 0xEE, 0x4C, 0x95, 0x0B, 0x42, 0xFA, 0xC3, 0x4E,\n",
        "    0x08, 0x2E, 0xA1, 0x66, 0x28, 0xD9, 0x24, 0xB2, 0x76, 0x5B, 0xA2, 0x49, 0x6D, 0x8B, 0xD1, 0x25,\n",
        "    0x72, 0xF8, 0xF6, 0x64, 0x86, 0x68, 0x98, 0x16, 0xD4, 0xA4, 0x5C, 0xCC, 0x5D, 0x65, 0xB6, 0x92,\n",
        "    0x6C, 0x70, 0x48, 0x50, 0xFD, 0xED, 0xB9, 0xDA, 0x5E, 0x15, 0x46, 0x57, 0xA7, 0x8D, 0x9D, 0x84,\n",
        "    0x90, 0xD8, 0xAB, 0x00, 0x8C, 0xBC, 0xD3, 0x0A, 0xF7, 0xE4, 0x58, 0x05, 0xB8, 0xB3, 0x45, 0x06,\n",
        "    0xD0, 0x2C, 0x1E, 0x8F, 0xCA, 0x3F, 0x0F, 0x02, 0xC1, 0xAF, 0xBD, 0x03, 0x01, 0x13, 0x8A, 0x6B,\n",
        "    0x3A, 0x91, 0x11, 0x41, 0x4F, 0x67, 0xDC, 0xEA, 0x97, 0xF2, 0xCF, 0xCE, 0xF0, 0xB4, 0xE6, 0x73,\n",
        "    0x96, 0xAC, 0x74, 0x22, 0xE7, 0xAD, 0x35, 0x85, 0xE2, 0xF9, 0x37, 0xE8, 0x1C, 0x75, 0xDF, 0x6E,\n",
        "    0x47, 0xF1, 0x1A, 0x71, 0x1D, 0x29, 0xC5, 0x89, 0x6F, 0xB7, 0x62, 0x0E, 0xAA, 0x18, 0xBE, 0x1B,\n",
        "    0xFC, 0x56, 0x3E, 0x4B, 0xC6, 0xD2, 0x79, 0x20, 0x9A, 0xDB, 0xC0, 0xFE, 0x78, 0xCD, 0x5A, 0xF4,\n",
        "    0x1F, 0xDD, 0xA8, 0x33, 0x88, 0x07, 0xC7, 0x31, 0xB1, 0x12, 0x10, 0x59, 0x27, 0x80, 0xEC, 0x5F,\n",
        "    0x60, 0x51, 0x7F, 0xA9, 0x19, 0xB5, 0x4A, 0x0D, 0x2D, 0xE5, 0x7A, 0x9F, 0x93, 0xC9, 0x9C, 0xEF,\n",
        "    0xA0, 0xE0, 0x3B, 0x4D, 0xAE, 0x2A, 0xF5, 0xB0, 0xC8, 0xEB, 0xBB, 0x3C, 0x83, 0x53, 0x99, 0x61,\n",
        "    0x17, 0x2B, 0x04, 0x7E, 0xBA, 0x77, 0xD6, 0x26, 0xE1, 0x69, 0x14, 0x63, 0x55, 0x21, 0x0C, 0x7D,\n",
        ")\n",
        "\n",
        "myfile = \"basys_key_df.csv\"\n",
        "numtraces = 4000\n",
        "\n",
        "\n",
        "hypo_vector=np.zeros(numtraces,dtype='float')\t\t\t## 1-D arrays\n",
        "pt_vector=np.zeros(numtraces,dtype='float')\n",
        "dom=np.zeros(256,dtype='float')\n",
        "\n",
        "cnt = 0\n",
        "\n",
        "##vcd dump parser\n",
        "fileHandler = open (\"Files/trace.txt\", \"r\")\n",
        "fileH = open (\"Files/vcd_parsed_new.txt\", \"w\")\n",
        "for i in range(100000):\n",
        "    strin=fileHandler.readline()\n",
        "    if strin.__contains__('b1')|strin.__contains__('b0'):\n",
        "        fileH.write(strin.split('b')[1].split(' ')[0]+\"\\n\")\n",
        "fileH.close()\n",
        "fileHandler.close()\n",
        "\n",
        "##hamming distance file generator\n",
        "fileHandler = open (\"Files/vcd_parsed_new.txt\", \"r\")\n",
        "fileH = open (\"Files/hamming_weight_vcd.txt\", \"w\")\n",
        "for i in range(4000):\n",
        "    a=fileHandler.readline()\n",
        "    k=int(a,2)\n",
        "    j=bin(k)\n",
        "    fileH.write(str(j.count('1'))+\"\\n\")\n",
        "fileH.close()\n",
        "fileHandler.close()\n",
        " \n",
        "max_mean=0   \n",
        "prob_key=0   \n",
        "for kb in range(0,256,1):\n",
        "    print (\"Processing Key Byte: \"+hex(kb))\n",
        "    with open(myfile) as csv_file:\n",
        "        i=0\n",
        "        bin_0=0\n",
        "        bin_1=0\n",
        "        count_bin_0=0\n",
        "        count_bin_1=0\n",
        "        csv_reader = csv.reader(csv_file, delimiter=',')\n",
        "        fileHandler = open (\"Files/hamming_weight_vcd.txt\", \"r\")\n",
        "        for row in csv_reader:              ## all ciphertexts\n",
        "            ct = int(row[1][:-1],16)\t\t## ct = 12786e6e08af735b5504a0a5c7ca950eL\n",
        "            ct_temp = ct >> 120\t\t\t\t## ct_temp = 12\n",
        "            \n",
        "            btemp = InvSbox[ct_temp^kb]\t\t## btemp = Inverse Sbox (ct_temp XOR guess key byte (kb))\n",
        "\n",
        "            binexp = float(fileHandler.readline().strip())      ##power values from VCDump\n",
        "            \n",
        "            if btemp & 1==0:                ## LSB of first byte input to SBox\n",
        "                bin_0=bin_0+binexp\n",
        "                count_bin_0=count_bin_0+1\n",
        "            else:\n",
        "                bin_1=bin_1+binexp\n",
        "                count_bin_1=count_bin_1+1\n",
        "\n",
        "\n",
        "            i=i+1\n",
        "            if i==numtraces:\n",
        "                    break      \n",
        "    dom[kb]=abs((float(bin_0)/float(count_bin_0))-(float(bin_1)/float(count_bin_1)))\n",
        "    if max_mean<dom[kb]:\n",
        "        max_mean=dom[kb]\n",
        "        prob_key=kb\n",
        "    \n",
        "                \n",
        "fileHandler.close()\n",
        "print (\"\\nProbable Key Byte: \" + hex(prob_key))"
      ]
    }
  ],
  "metadata": {
    "colab": {
      "collapsed_sections": [],
      "name": "AES_DOM.ipynb",
      "provenance": []
    },
    "kernelspec": {
      "display_name": "Python 3",
      "name": "python3"
    },
    "language_info": {
      "codemirror_mode": {
        "name": "ipython",
        "version": 3
      },
      "file_extension": ".py",
      "mimetype": "text/x-python",
      "name": "python",
      "nbconvert_exporter": "python",
      "pygments_lexer": "ipython3",
      "version": "3.6.2"
    }
  },
  "nbformat": 4,
  "nbformat_minor": 0
}
