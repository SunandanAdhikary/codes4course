{
 "cells": [
  {
   "cell_type": "code",
   "execution_count": 1,
   "metadata": {},
   "outputs": [
    {
     "name": "stdout",
     "output_type": "stream",
     "text": [
      "the n-2 th bit of the key is  0\n"
     ]
    }
   ],
   "source": [
    "import numpy as np\n",
    "\n",
    "x = np.array([810,891,789,431,918,862,706,742,53,408])\n",
    "nsamp = len(x)\n",
    "k = np.array([1,0])\n",
    "nkey = len(k)\n",
    "htrace = np.array(np.zeros((nsamp,nkey)))\n",
    "# real power trace for n-2 nd iteration\n",
    "rtrace = np.array([12,13,11,8,10,6,9,11,12,14])\n",
    "meanh = np.array([0.1,0.1])\n",
    "meanr = np.array([0.1,0.1])\n",
    "varh = np.array([0.1,0.1])\n",
    "varr = np.array([0.1,0.1])\n",
    "covhr = np.array([0,0])\n",
    "corhr = np.array([0,0])\n",
    "N = 4763\n",
    "q = 0\n",
    "for i in range(10):\n",
    "    r0 = 1\n",
    "    r1 = x[i]\n",
    "    for j in range(2):\n",
    "        r0 = (r0*r1)%N\n",
    "        r1 = (r1*r1)%N\n",
    "        # calculation due to k[n-2] th bit \n",
    "        if k[j] == 1:\n",
    "            r0 = (r0*r1)%N\n",
    "            r1 = (r1*r1)%N\n",
    "        else:\n",
    "            r1 = (r0*r1)%N\n",
    "            r0 = (r1*r1)%N\n",
    "        # hamming weight calculation and hypothesis table generation\n",
    "        htrace[i,j] = bin(r0).count('1')\n",
    "\n",
    "for ki in k:\n",
    "    meanh = np.mean(htrace[:,ki])\n",
    "    meanr = np.mean(rtrace)\n",
    "    covhr = np.cov(htrace[:,ki],rtrace.T)\n",
    "    varh = np.var(htrace[:,ki])\n",
    "    varr = np.var(rtrace)\n",
    "    corhr[ki] = np.sum(covhr)/(np.sum(varh)*np.sum(varr))\n",
    "# print(corhr)\n",
    "key = np.argmax(corhr)\n",
    "print(f\"the n-2 th bit of the key is \",key)\n"
   ]
  },
  {
   "cell_type": "code",
   "execution_count": 2,
   "metadata": {},
   "outputs": [
    {
     "name": "stdout",
     "output_type": "stream",
     "text": [
      "316\n"
     ]
    }
   ],
   "source": [
    "s =\"bfdd0c7cb42a5cc3556c0f6d8a846265L,12786e6e08af735b5504a0a5c7ca950eL,2.55,2.54,2.54,2.56,2.57,2.55,2.53,2.51,2.53,2.59,2.62,2.62,2.61,2.59,2.58,2.58,2.56,2.58,2.6,2.62,2.61,2.59,2.56,2.54,2.54,2.55,2.54,2.56,2.56,2.57,2.58,2.58,2.62,2.66,2.73,2.77,2.76,2.75,2.72,2.7,2.67,2.64,2.6,2.58,2.59,2.56,2.51,2.47,2.46,2.47,2.48,2.49,2.53,2.54,2.56,2.57,2.58,2.6,2.65,2.72,2.78,2.78,2.76,2.74,2.71,2.67,2.63,2.58,2.57,2.56,2.53,2.47,2.44,2.43,2.45,2.47,2.49,2.51,2.54,2.56,2.58,2.59,2.61,2.68,2.74,2.78,2.79,2.77,2.74,2.7,2.66,2.62,2.58,2.56,2.56,2.53,2.47,2.44,2.44,2.47,2.48,2.51,2.53,2.55,2.56,2.59,2.59,2.62,2.68,2.74,2.78,2.8,2.77,2.73,2.71,2.67,2.61,2.58,2.56,2.56,2.52,2.47,2.45,2.45,2.46,2.48,2.5,2.52,2.54,2.57,2.58,2.59,2.61,2.67,2.74,2.78,2.8,2.77,2.75,2.7,2.68,2.63,2.59,2.57,2.56,2.53,2.48,2.43,2.42,2.44,2.46,2.48,2.51,2.53,2.54,2.56,2.58,2.59,2.66,2.72,2.76,2.77,2.74,2.7,2.66,2.62,2.58,2.54,2.53,2.52,2.49,2.44,2.42,2.41,2.43,2.45,2.46,2.49,2.51,2.54,2.55,2.57,2.59,2.65,2.72,2.76,2.76,2.74,2.7,2.65,2.61,2.58,2.54,2.51,2.51,2.49,2.44,2.41,2.42,2.43,2.46,2.48,2.49,2.52,2.55,2.56,2.57,2.61,2.66,2.72,2.75,2.76,2.73,2.71,2.65,2.61,2.55,2.54,2.51,2.51,2.48,2.44,2.41,2.41,2.43,2.45,2.47,2.5,2.51,2.54,2.56,2.58,2.6,2.66,2.73,2.77,2.76,2.74,2.7,2.66,2.61,2.55,2.52,2.5,2.5,2.49,2.43,2.4,2.41,2.43,2.46,2.48,2.5,2.51,2.54,2.56,2.58,2.61,2.67,2.73,2.77,2.77,2.74,2.71,2.67,2.6,2.56,2.52,2.51,2.51,2.48,2.45,2.42,2.42,2.43,2.47,2.48,2.51,2.52,2.55,2.59,2.58,2.62,2.67,2.75,2.79,2.78,2.75,2.71,2.68,2.64,2.58,2.54,2.52,2.52,2.49,2.45,2.42,2.41,2.45,2.47,2.48,2.51,2.53,2.53,2.53,2.52,2.5,2.53,2.57,2.59,2.57,2.55,2.53,2.5\"\n",
    "print(s.count(','))"
   ]
  }
 ],
 "metadata": {
  "interpreter": {
   "hash": "916dbcbb3f70747c44a77c7bcd40155683ae19c65e1c03b4aa3499c5328201f1"
  },
  "kernelspec": {
   "display_name": "Python 3.8.10 64-bit",
   "language": "python",
   "name": "python3"
  },
  "language_info": {
   "codemirror_mode": {
    "name": "ipython",
    "version": 3
   },
   "file_extension": ".py",
   "mimetype": "text/x-python",
   "name": "python",
   "nbconvert_exporter": "python",
   "pygments_lexer": "ipython3",
   "version": "3.6.2"
  },
  "orig_nbformat": 4
 },
 "nbformat": 4,
 "nbformat_minor": 2
}
