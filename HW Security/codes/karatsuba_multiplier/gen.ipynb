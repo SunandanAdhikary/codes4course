{
 "cells": [
  {
   "cell_type": "code",
   "execution_count": null,
   "metadata": {},
   "outputs": [],
   "source": [
    "\n",
    "n=14\n",
    "for i in range(2*n+1):\n",
    "    pr = \"assign c[\"+str(i)+\"] = \"\n",
    "    if i<=n and (i-j)<=n:\n",
    "        for j in range(0,i+1):\n",
    "            pr+=\"a[\"+str(j)+\"]&b[\"+str(i-j)+\"] ^ \"\n",
    "    else :\n",
    "        for j in range(i-n,min(n+1,i+1)):\n",
    "            pr+=\"a[\"+str(j)+\"]&b[\"+str(i-j)+\"] ^ \"\n",
    "    pr= pr[:len(pr)-2]\n",
    "    print(pr+\";\")"
   ]
  },
  {
   "cell_type": "code",
   "execution_count": null,
   "metadata": {},
   "outputs": [],
   "source": [
    "import numpy as np\n",
    "\n",
    "msg = \"\"\n",
    "# arrange msg in a matrix in column major format\n",
    "for i in range(n):\n",
    "    for j in range(n):\n",
    "        msg+=str(np.random.randint(2))\n",
    "    msg+=\"\\n\""
   ]
  }
 ],
 "metadata": {
  "interpreter": {
   "hash": "916dbcbb3f70747c44a77c7bcd40155683ae19c65e1c03b4aa3499c5328201f1"
  },
  "kernelspec": {
   "display_name": "Python 3.8.10 64-bit",
   "language": "python",
   "name": "python3"
  },
  "language_info": {
   "codemirror_mode": {
    "name": "ipython",
    "version": 3
   },
   "file_extension": ".py",
   "mimetype": "text/x-python",
   "name": "python",
   "nbconvert_exporter": "python",
   "pygments_lexer": "ipython3",
   "version": "3.8.10"
  },
  "orig_nbformat": 4
 },
 "nbformat": 4,
 "nbformat_minor": 2
}
