{
 "cells": [
  {
   "cell_type": "code",
   "execution_count": 21,
   "metadata": {},
   "outputs": [
    {
     "name": "stdout",
     "output_type": "stream",
     "text": [
      "assign c[0] = a[0]&b[0] ;\n",
      "assign c[1] = a[0]&b[1] ^ a[1]&b[0] ;\n",
      "assign c[2] = a[0]&b[2] ^ a[1]&b[1] ^ a[2]&b[0] ;\n",
      "assign c[3] = a[0]&b[3] ^ a[1]&b[2] ^ a[2]&b[1] ^ a[3]&b[0] ;\n",
      "assign c[4] = a[0]&b[4] ^ a[1]&b[3] ^ a[2]&b[2] ^ a[3]&b[1] ^ a[4]&b[0] ;\n",
      "assign c[5] = a[0]&b[5] ^ a[1]&b[4] ^ a[2]&b[3] ^ a[3]&b[2] ^ a[4]&b[1] ^ a[5]&b[0] ;\n",
      "assign c[6] = a[0]&b[6] ^ a[1]&b[5] ^ a[2]&b[4] ^ a[3]&b[3] ^ a[4]&b[2] ^ a[5]&b[1] ^ a[6]&b[0] ;\n",
      "assign c[7] = a[0]&b[7] ^ a[1]&b[6] ^ a[2]&b[5] ^ a[3]&b[4] ^ a[4]&b[3] ^ a[5]&b[2] ^ a[6]&b[1] ^ a[7]&b[0] ;\n",
      "assign c[8] = a[0]&b[8] ^ a[1]&b[7] ^ a[2]&b[6] ^ a[3]&b[5] ^ a[4]&b[4] ^ a[5]&b[3] ^ a[6]&b[2] ^ a[7]&b[1] ^ a[8]&b[0] ;\n",
      "assign c[9] = a[0]&b[9] ^ a[1]&b[8] ^ a[2]&b[7] ^ a[3]&b[6] ^ a[4]&b[5] ^ a[5]&b[4] ^ a[6]&b[3] ^ a[7]&b[2] ^ a[8]&b[1] ^ a[9]&b[0] ;\n",
      "assign c[10] = a[0]&b[10] ^ a[1]&b[9] ^ a[2]&b[8] ^ a[3]&b[7] ^ a[4]&b[6] ^ a[5]&b[5] ^ a[6]&b[4] ^ a[7]&b[3] ^ a[8]&b[2] ^ a[9]&b[1] ^ a[10]&b[0] ;\n",
      "assign c[11] = a[0]&b[11] ^ a[1]&b[10] ^ a[2]&b[9] ^ a[3]&b[8] ^ a[4]&b[7] ^ a[5]&b[6] ^ a[6]&b[5] ^ a[7]&b[4] ^ a[8]&b[3] ^ a[9]&b[2] ^ a[10]&b[1] ^ a[11]&b[0] ;\n",
      "assign c[12] = a[0]&b[12] ^ a[1]&b[11] ^ a[2]&b[10] ^ a[3]&b[9] ^ a[4]&b[8] ^ a[5]&b[7] ^ a[6]&b[6] ^ a[7]&b[5] ^ a[8]&b[4] ^ a[9]&b[3] ^ a[10]&b[2] ^ a[11]&b[1] ^ a[12]&b[0] ;\n",
      "assign c[13] = a[0]&b[13] ^ a[1]&b[12] ^ a[2]&b[11] ^ a[3]&b[10] ^ a[4]&b[9] ^ a[5]&b[8] ^ a[6]&b[7] ^ a[7]&b[6] ^ a[8]&b[5] ^ a[9]&b[4] ^ a[10]&b[3] ^ a[11]&b[2] ^ a[12]&b[1] ^ a[13]&b[0] ;\n",
      "assign c[14] = a[0]&b[14] ^ a[1]&b[13] ^ a[2]&b[12] ^ a[3]&b[11] ^ a[4]&b[10] ^ a[5]&b[9] ^ a[6]&b[8] ^ a[7]&b[7] ^ a[8]&b[6] ^ a[9]&b[5] ^ a[10]&b[4] ^ a[11]&b[3] ^ a[12]&b[2] ^ a[13]&b[1] ^ a[14]&b[0] ;\n",
      "assign c[15] = a[1]&b[14] ^ a[2]&b[13] ^ a[3]&b[12] ^ a[4]&b[11] ^ a[5]&b[10] ^ a[6]&b[9] ^ a[7]&b[8] ^ a[8]&b[7] ^ a[9]&b[6] ^ a[10]&b[5] ^ a[11]&b[4] ^ a[12]&b[3] ^ a[13]&b[2] ^ a[14]&b[1] ;\n",
      "assign c[16] = a[2]&b[14] ^ a[3]&b[13] ^ a[4]&b[12] ^ a[5]&b[11] ^ a[6]&b[10] ^ a[7]&b[9] ^ a[8]&b[8] ^ a[9]&b[7] ^ a[10]&b[6] ^ a[11]&b[5] ^ a[12]&b[4] ^ a[13]&b[3] ^ a[14]&b[2] ;\n",
      "assign c[17] = a[3]&b[14] ^ a[4]&b[13] ^ a[5]&b[12] ^ a[6]&b[11] ^ a[7]&b[10] ^ a[8]&b[9] ^ a[9]&b[8] ^ a[10]&b[7] ^ a[11]&b[6] ^ a[12]&b[5] ^ a[13]&b[4] ^ a[14]&b[3] ;\n",
      "assign c[18] = a[4]&b[14] ^ a[5]&b[13] ^ a[6]&b[12] ^ a[7]&b[11] ^ a[8]&b[10] ^ a[9]&b[9] ^ a[10]&b[8] ^ a[11]&b[7] ^ a[12]&b[6] ^ a[13]&b[5] ^ a[14]&b[4] ;\n",
      "assign c[19] = a[5]&b[14] ^ a[6]&b[13] ^ a[7]&b[12] ^ a[8]&b[11] ^ a[9]&b[10] ^ a[10]&b[9] ^ a[11]&b[8] ^ a[12]&b[7] ^ a[13]&b[6] ^ a[14]&b[5] ;\n",
      "assign c[20] = a[6]&b[14] ^ a[7]&b[13] ^ a[8]&b[12] ^ a[9]&b[11] ^ a[10]&b[10] ^ a[11]&b[9] ^ a[12]&b[8] ^ a[13]&b[7] ^ a[14]&b[6] ;\n",
      "assign c[21] = a[7]&b[14] ^ a[8]&b[13] ^ a[9]&b[12] ^ a[10]&b[11] ^ a[11]&b[10] ^ a[12]&b[9] ^ a[13]&b[8] ^ a[14]&b[7] ;\n",
      "assign c[22] = a[8]&b[14] ^ a[9]&b[13] ^ a[10]&b[12] ^ a[11]&b[11] ^ a[12]&b[10] ^ a[13]&b[9] ^ a[14]&b[8] ;\n",
      "assign c[23] = a[9]&b[14] ^ a[10]&b[13] ^ a[11]&b[12] ^ a[12]&b[11] ^ a[13]&b[10] ^ a[14]&b[9] ;\n",
      "assign c[24] = a[10]&b[14] ^ a[11]&b[13] ^ a[12]&b[12] ^ a[13]&b[11] ^ a[14]&b[10] ;\n",
      "assign c[25] = a[11]&b[14] ^ a[12]&b[13] ^ a[13]&b[12] ^ a[14]&b[11] ;\n",
      "assign c[26] = a[12]&b[14] ^ a[13]&b[13] ^ a[14]&b[12] ;\n",
      "assign c[27] = a[13]&b[14] ^ a[14]&b[13] ;\n",
      "assign c[28] = a[14]&b[14] ;\n"
     ]
    }
   ],
   "source": [
    "\n",
    "n=14\n",
    "for i in range(2*n+1):\n",
    "    pr = \"assign c[\"+str(i)+\"] = \"\n",
    "    if i<=n and (i-j)<=n:\n",
    "        for j in range(0,i+1):\n",
    "            pr+=\"a[\"+str(j)+\"]&b[\"+str(i-j)+\"] ^ \"\n",
    "    else :\n",
    "        for j in range(i-n,min(n+1,i+1)):\n",
    "            pr+=\"a[\"+str(j)+\"]&b[\"+str(i-j)+\"] ^ \"\n",
    "    pr= pr[:len(pr)-2]\n",
    "    print(pr+\";\")"
   ]
  },
  {
   "cell_type": "code",
   "execution_count": null,
   "metadata": {},
   "outputs": [],
   "source": [
    "import galois\n",
    "import numpy as np\n"
   ]
  }
 ],
 "metadata": {
  "interpreter": {
   "hash": "916dbcbb3f70747c44a77c7bcd40155683ae19c65e1c03b4aa3499c5328201f1"
  },
  "kernelspec": {
   "display_name": "Python 3.8.10 64-bit",
   "language": "python",
   "name": "python3"
  },
  "language_info": {
   "codemirror_mode": {
    "name": "ipython",
    "version": 3
   },
   "file_extension": ".py",
   "mimetype": "text/x-python",
   "name": "python",
   "nbconvert_exporter": "python",
   "pygments_lexer": "ipython3",
   "version": "3.8.10"
  },
  "orig_nbformat": 4
 },
 "nbformat": 4,
 "nbformat_minor": 2
}
