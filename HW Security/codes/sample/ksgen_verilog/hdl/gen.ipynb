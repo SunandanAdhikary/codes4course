
n=13
for i in range(2*n):
     print(f"assign c["+str(i)+"] =")
    for j in range(0,i/2):
        if i<=n:
            print(f"a["+str(i)+"]&b["+str(n-i)+"]^")
        else:
            break